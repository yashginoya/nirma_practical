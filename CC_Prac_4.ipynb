{
 "cells": [
  {
   "cell_type": "markdown",
   "id": "c512b101",
   "metadata": {},
   "source": [
    "### To Implement Left Recursion derivation removal algorithm : Eliminate direct and indirect Left recursion from given grammar for LL(1) parser.  "
   ]
  },
  {
   "cell_type": "markdown",
   "id": "9212a7bf",
   "metadata": {},
   "source": [
    "#### Direct Left Recursion"
   ]
  },
  {
   "cell_type": "code",
   "execution_count": 32,
   "id": "7b46e62e",
   "metadata": {},
   "outputs": [
    {
     "name": "stdout",
     "output_type": "stream",
     "text": [
      "Enter the no. of grammars: 2\n",
      "Enter the grammar: E->E+t|t\n",
      "Enter the grammar: F->F-m|m1|m2|m3\n"
     ]
    },
    {
     "data": {
      "text/plain": [
       "['E->E+t|t', 'F->F-m|m1|m2|m3']"
      ]
     },
     "execution_count": 32,
     "metadata": {},
     "output_type": "execute_result"
    }
   ],
   "source": [
    "no_of_grammars = int(input(\"Enter the no. of grammars: \"))\n",
    "inpList=[]\n",
    "for i in range(no_of_grammars):\n",
    "    inp = input(\"Enter the grammar: \")\n",
    "    inpList.append(inp)\n",
    "inpList"
   ]
  },
  {
   "cell_type": "code",
   "execution_count": 33,
   "id": "4ed91ace",
   "metadata": {},
   "outputs": [
    {
     "data": {
      "text/plain": [
       "[['E', 'E+t|t'], ['F', 'F-m|m1|m2|m3']]"
      ]
     },
     "execution_count": 33,
     "metadata": {},
     "output_type": "execute_result"
    }
   ],
   "source": [
    "splited_inpList = []\n",
    "for inp in inpList:\n",
    "    splited = inp.split(\"->\")\n",
    "    splited_inpList.append(splited)\n",
    "splited_inpList"
   ]
  },
  {
   "cell_type": "code",
   "execution_count": 44,
   "id": "a4727fca",
   "metadata": {},
   "outputs": [
    {
     "name": "stdout",
     "output_type": "stream",
     "text": [
      "Resultant Grammar\n",
      "------------------------------\n",
      "E -> tE'\n",
      "E' -> +tE'|$\n",
      "F -> m1F'|m2F'|m3F'\n",
      "F' -> -mF'|$\n"
     ]
    }
   ],
   "source": [
    "print(\"Resultant Grammar\")\n",
    "print(\"-\"*30)\n",
    "for splited in splited_inpList:\n",
    "    if splited[0]==splited[1][0]:\n",
    "        rhs=splited[1]\n",
    "        rhs_splited = rhs.split(\"|\")\n",
    "        alpha = rhs_splited[0][1:];beta = rhs_splited[1:]\n",
    "        s=\"\"\n",
    "        for j in beta:\n",
    "            s += f\"{j}{splited[0]}'|\"\n",
    "        print(f\"{splited[0]} -> {s[:len(s)-1]}\")\n",
    "        print(f\"{splited[0]}' -> {alpha}{splited[0]}'|$\")\n",
    "    else:\n",
    "        print(f\"{splited[0]} -> {splited[1]}\")"
   ]
  },
  {
   "cell_type": "markdown",
   "id": "f9d6815e",
   "metadata": {},
   "source": [
    "#### Indirect Left Recursion"
   ]
  },
  {
   "cell_type": "code",
   "execution_count": 2,
   "id": "b6a65f05",
   "metadata": {},
   "outputs": [
    {
     "name": "stdout",
     "output_type": "stream",
     "text": [
      "Enter No of Production: 2\n",
      "S -> Aa\n",
      "A -> Sa | a\n",
      "Output:\n",
      "\n",
      "S -> Aa\n",
      "A -> aA'\n",
      "A' -> aaA' | ε\n"
     ]
    }
   ],
   "source": [
    "def add_rule(gram, rule):\n",
    "    nt = False\n",
    "    parse = \"\"\n",
    "\n",
    "    for i in range(len(rule)):\n",
    "        c = rule[i]\n",
    "        if c == ' ':\n",
    "            if not nt:\n",
    "                new_non_terminal = {\"name\": parse, \"rules\": []}\n",
    "                gram.append(new_non_terminal)\n",
    "                nt = True\n",
    "                parse = \"\"\n",
    "            elif parse != \"\":\n",
    "                gram[-1][\"rules\"].append(parse)\n",
    "                parse = \"\"\n",
    "        elif c != '|' and c != '-' and c != '>':\n",
    "            parse += c\n",
    "    if parse != \"\":\n",
    "        gram[-1][\"rules\"].append(parse)\n",
    "\n",
    "def solve_non_immediate_lr(A, B):\n",
    "    name_A = A[\"name\"]\n",
    "    name_B = B[\"name\"]\n",
    "\n",
    "    rules_A = A[\"rules\"]\n",
    "    rules_B = B[\"rules\"]\n",
    "\n",
    "    new_rules_A = []\n",
    "\n",
    "    for rule in rules_A:\n",
    "        if rule[0: len(name_B)] == name_B:\n",
    "            for rule1 in rules_B:\n",
    "                new_rules_A.append(rule1 + rule[len(name_B):])\n",
    "        else:\n",
    "            new_rules_A.append(rule)\n",
    "    \n",
    "    A[\"rules\"] = new_rules_A\n",
    "\n",
    "def solve_immediate_lr(A,gram):\n",
    "    name = A[\"name\"]\n",
    "    new_name = name + \"'\"\n",
    "\n",
    "    alphas = []\n",
    "    betas = []\n",
    "    rules = A[\"rules\"]\n",
    "    new_rules_A = []\n",
    "    new_rules_A1 = []\n",
    "\n",
    "    for rule in rules:\n",
    "        if rule[0: len(name)] == name:\n",
    "            alphas.append(rule[len(name):])\n",
    "        else:\n",
    "            betas.append(rule)\n",
    "\n",
    "    if len(alphas) == 0:\n",
    "        return\n",
    "\n",
    "    if len(betas) == 0:\n",
    "        new_rules_A.append(new_name)\n",
    "\n",
    "    for beta in betas:\n",
    "        new_rules_A.append(beta + new_name)\n",
    "\n",
    "    for alpha in alphas:\n",
    "        new_rules_A1.append(alpha + new_name)\n",
    "\n",
    "    A[\"rules\"] = new_rules_A\n",
    "    new_rules_A1.append(\"\\u03B5\")\n",
    "\n",
    "    new_non_terminal = {\"name\": new_name, \"rules\": new_rules_A1}\n",
    "    gram.append(new_non_terminal)\n",
    "\n",
    "def apply_algorithm(gram):\n",
    "    size = len(gram)\n",
    "    for i in range(size):\n",
    "        for j in range(i):\n",
    "            solve_non_immediate_lr(gram[i], gram[j])\n",
    "        solve_immediate_lr(gram[i],gram)\n",
    "\n",
    "def print_rules(gram):\n",
    "    for non_terminal in gram:\n",
    "        print(non_terminal[\"name\"] + \" -> \", end=\"\")\n",
    "        for i in range(len(non_terminal[\"rules\"])):\n",
    "            print(non_terminal[\"rules\"][i], end=\"\")\n",
    "            if i != len(non_terminal[\"rules\"]) - 1:\n",
    "                print(\" | \", end=\"\")\n",
    "        print()\n",
    "\n",
    "def process_grammar():\n",
    "    gram = []\n",
    "    n = int(input(\"Enter No of Production: \"))\n",
    "    for i in range(n):\n",
    "        txt = input()\n",
    "        add_rule(gram, txt)\n",
    "\n",
    "    apply_algorithm(gram)\n",
    "    print(\"Output:\\n\")\n",
    "    print_rules(gram)\n",
    "\n",
    "process_grammar()"
   ]
  },
  {
   "cell_type": "code",
   "execution_count": null,
   "id": "346581f9",
   "metadata": {},
   "outputs": [],
   "source": []
  }
 ],
 "metadata": {
  "kernelspec": {
   "display_name": "Python 3 (ipykernel)",
   "language": "python",
   "name": "python3"
  },
  "language_info": {
   "codemirror_mode": {
    "name": "ipython",
    "version": 3
   },
   "file_extension": ".py",
   "mimetype": "text/x-python",
   "name": "python",
   "nbconvert_exporter": "python",
   "pygments_lexer": "ipython3",
   "version": "3.10.6"
  },
  "vscode": {
   "interpreter": {
    "hash": "be6a5fa24b2022e5e6685d1ea25e95a8bef0132a942491a35800ef9c7d609f70"
   }
  }
 },
 "nbformat": 4,
 "nbformat_minor": 5
}
