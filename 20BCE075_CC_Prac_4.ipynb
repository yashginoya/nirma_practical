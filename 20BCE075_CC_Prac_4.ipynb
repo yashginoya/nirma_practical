{
 "cells": [
  {
   "cell_type": "markdown",
   "id": "c512b101",
   "metadata": {},
   "source": [
    "### To Implement Left Recursion derivation removal algorithm : Eliminate direct and indirect Left recursion from given grammar for LL(1) parser.  "
   ]
  },
  {
   "cell_type": "markdown",
   "id": "9212a7bf",
   "metadata": {},
   "source": [
    "#### Direct Left Recursion"
   ]
  },
  {
   "cell_type": "code",
   "execution_count": 7,
   "id": "7b46e62e",
   "metadata": {},
   "outputs": [
    {
     "name": "stdout",
     "output_type": "stream",
     "text": [
      "Enter the no. of grammars: 2\n",
      "Enter the grammar: E->E+t|t\n",
      "Enter the grammar: F->F-m|m1\n"
     ]
    },
    {
     "data": {
      "text/plain": [
       "['E->E+t|t', 'F->F-m|m1']"
      ]
     },
     "execution_count": 7,
     "metadata": {},
     "output_type": "execute_result"
    }
   ],
   "source": [
    "no_of_grammars = int(input(\"Enter the no. of grammars: \"))\n",
    "inpList=[]\n",
    "for i in range(no_of_grammars):\n",
    "    inp = input(\"Enter the grammar: \")\n",
    "    inpList.append(inp)\n",
    "inpList"
   ]
  },
  {
   "cell_type": "code",
   "execution_count": 8,
   "id": "4ed91ace",
   "metadata": {},
   "outputs": [
    {
     "data": {
      "text/plain": [
       "[['E', 'E+t|t'], ['F', 'F-m|m1']]"
      ]
     },
     "execution_count": 8,
     "metadata": {},
     "output_type": "execute_result"
    }
   ],
   "source": [
    "splited_inpList = []\n",
    "for inp in inpList:\n",
    "    splited = inp.split(\"->\")\n",
    "    splited_inpList.append(splited)\n",
    "splited_inpList"
   ]
  },
  {
   "cell_type": "code",
   "execution_count": 9,
   "id": "a4727fca",
   "metadata": {},
   "outputs": [
    {
     "name": "stdout",
     "output_type": "stream",
     "text": [
      "Resultant Grammar\n",
      "------------------------------\n",
      "E -> tE'\n",
      "E' -> +tE'|$\n",
      "F -> m1F'\n",
      "F' -> -mF'|$\n"
     ]
    }
   ],
   "source": [
    "print(\"Resultant Grammar\")\n",
    "print(\"-\"*30)\n",
    "for splited in splited_inpList:\n",
    "    if splited[0]==splited[1][0]:\n",
    "        rhs=splited[1]\n",
    "        rhs_splited = rhs.split(\"|\")\n",
    "        alpha = rhs_splited[0][1:];beta = rhs_splited[1:]\n",
    "        s=\"\"\n",
    "        for j in beta:\n",
    "            s += f\"{j}{splited[0]}'|\"\n",
    "        print(f\"{splited[0]} -> {s[:len(s)-1]}\")\n",
    "        print(f\"{splited[0]}' -> {alpha}{splited[0]}'|$\")\n",
    "    else:\n",
    "        print(f\"{splited[0]} -> {splited[1]}\")"
   ]
  },
  {
   "cell_type": "markdown",
   "id": "f9d6815e",
   "metadata": {},
   "source": [
    "#### Indirect Left Recursion"
   ]
  },
  {
   "cell_type": "code",
   "execution_count": 1,
   "id": "1c272358",
   "metadata": {},
   "outputs": [
    {
     "name": "stdout",
     "output_type": "stream",
     "text": [
      "Enter the no. of grammars: 2\n",
      "Enter the grammar: S->aB|Ad\n",
      "Enter the grammar: A->pa|Sb\n"
     ]
    },
    {
     "data": {
      "text/plain": [
       "['S->aB|Ad', 'A->pa|Sb']"
      ]
     },
     "execution_count": 1,
     "metadata": {},
     "output_type": "execute_result"
    }
   ],
   "source": [
    "no_of_grammars = int(input(\"Enter the no. of grammars: \"))\n",
    "inpList=[]\n",
    "for i in range(no_of_grammars):\n",
    "    inp = input(\"Enter the grammar: \")\n",
    "    inpList.append(inp)\n",
    "inpList"
   ]
  },
  {
   "cell_type": "code",
   "execution_count": 2,
   "id": "8ddf0b2b",
   "metadata": {},
   "outputs": [
    {
     "data": {
      "text/plain": [
       "[['S', 'aB|Ad'], ['A', 'pa|Sb']]"
      ]
     },
     "execution_count": 2,
     "metadata": {},
     "output_type": "execute_result"
    }
   ],
   "source": [
    "splited_inpList = []\n",
    "for inp in inpList:\n",
    "    splited = inp.split(\"->\")\n",
    "    splited_inpList.append(splited)\n",
    "splited_inpList"
   ]
  },
  {
   "cell_type": "code",
   "execution_count": 11,
   "id": "9211b0ef",
   "metadata": {},
   "outputs": [
    {
     "data": {
      "text/plain": [
       "[['S', ['aB', 'Ad']], ['A', ['pa', 'Sb']]]"
      ]
     },
     "execution_count": 11,
     "metadata": {},
     "output_type": "execute_result"
    }
   ],
   "source": [
    "for i in splited_inpList:\n",
    "    i[1]=i[1].split('|')\n",
    "splited_inpList"
   ]
  },
  {
   "cell_type": "code",
   "execution_count": 12,
   "id": "eb54ba9a",
   "metadata": {},
   "outputs": [
    {
     "name": "stdout",
     "output_type": "stream",
     "text": [
      "pa\n",
      "Sb\n"
     ]
    }
   ],
   "source": [
    "s = set()\n",
    "for i in range(len(splited_inpList)-1):\n",
    "    s.add(splited_inpList[i][0])\n",
    "    for j in range(1,len(splited_inpList)):\n",
    "        for k in splited_inpList[j][1]:\n",
    "            if k[0] in s:\n",
    "                "
   ]
  },
  {
   "cell_type": "code",
   "execution_count": 3,
   "id": "e923523d",
   "metadata": {},
   "outputs": [
    {
     "data": {
      "text/plain": [
       "{'S': ['aB', 'Ad'], 'A': ['pa', 'Sb']}"
      ]
     },
     "execution_count": 3,
     "metadata": {},
     "output_type": "execute_result"
    }
   ],
   "source": [
    "dic = dict()\n",
    "for inp in inpList:\n",
    "    splited = inp.split(\"->\")\n",
    "    dic[splited[0]]=splited[1].split(\"|\")\n",
    "dic"
   ]
  },
  {
   "cell_type": "code",
   "execution_count": 4,
   "id": "bd3b9cbd",
   "metadata": {},
   "outputs": [
    {
     "data": {
      "text/plain": [
       "{'S': ['pad', 'Sbd'], 'A': ['aBb', 'Adb']}"
      ]
     },
     "execution_count": 4,
     "metadata": {},
     "output_type": "execute_result"
    }
   ],
   "source": [
    "import re\n",
    "dic1 = dict()\n",
    "for i in dic:\n",
    "    for j in dic[i]:\n",
    "        match = re.search(r'[A-Z]',j)\n",
    "        if match and match.span()==(0,1) and match.group() in dic.keys():\n",
    "            lst = []\n",
    "            for k in range(len(dic[match.group()])):\n",
    "                lst.append(j.replace(match.group(),dic[match.group()][k]))\n",
    "            dic1[i]=lst\n",
    "dic1"
   ]
  },
  {
   "cell_type": "code",
   "execution_count": 5,
   "id": "92bf2c23",
   "metadata": {},
   "outputs": [
    {
     "data": {
      "text/plain": [
       "{'S': ['aB'], 'A': ['pa']}"
      ]
     },
     "execution_count": 5,
     "metadata": {},
     "output_type": "execute_result"
    }
   ],
   "source": [
    "for i in dic:\n",
    "    for j in dic[i]:\n",
    "        match = re.search(r'[A-Z]',j)\n",
    "        if match and match.span()==(0,1) and match.group() in dic.keys():\n",
    "            dic[i].remove(j)\n",
    "dic"
   ]
  }
 ],
 "metadata": {
  "kernelspec": {
   "display_name": "Python 3 (ipykernel)",
   "language": "python",
   "name": "python3"
  },
  "language_info": {
   "codemirror_mode": {
    "name": "ipython",
    "version": 3
   },
   "file_extension": ".py",
   "mimetype": "text/x-python",
   "name": "python",
   "nbconvert_exporter": "python",
   "pygments_lexer": "ipython3",
   "version": "3.8.10"
  },
  "vscode": {
   "interpreter": {
    "hash": "be6a5fa24b2022e5e6685d1ea25e95a8bef0132a942491a35800ef9c7d609f70"
   }
  }
 },
 "nbformat": 4,
 "nbformat_minor": 5
}
